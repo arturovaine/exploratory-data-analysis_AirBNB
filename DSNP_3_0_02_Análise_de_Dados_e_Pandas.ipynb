{
  "cells": [
    {
      "cell_type": "markdown",
      "metadata": {
        "id": "WwoGHWPb4SG5"
      },
      "source": [
        "01-Decisões baseadas em Dados\n",
        "\n",
        "**02-Análise de Dados e Pandas**\n",
        "\n",
        "03-Visualização de Dados\n",
        "\n",
        "04-Data Storytelling\n",
        "\n",
        "05-Introdução ao Machine Learning\n",
        "\n",
        "06-Técnicas Avançadas de Machine Learning\n",
        "\n",
        "07-Auto Machine Learning\n",
        "\n",
        "08-Machine Learning na Nuvem\n",
        "\n",
        "09-Criando um Projeto do Zero\n",
        "\n",
        "10-Deploy de Aplicação Machine Learning\n",
        "\n",
        "11-Deep Learning\n"
      ]
    },
    {
      "cell_type": "code",
      "execution_count": null,
      "metadata": {
        "colab": {
          "base_uri": "https://localhost:8080/"
        },
        "id": "o-ZlN8ER5Pto",
        "outputId": "8f0c187b-e584-450b-9cd7-9be353e50386",
        "vscode": {
          "languageId": "python"
        }
      },
      "outputs": [
        {
          "name": "stdout",
          "output_type": "stream",
          "text": [
            "/content/drive\n",
            "Drive already mounted at /content/drive; to attempt to forcibly remount, call drive.mount(\"/content/drive\", force_remount=True).\n"
          ]
        }
      ],
      "source": [
        "# https://towardsdatascience.com/google-drive-google-colab-github-dont-just-read-do-it-5554d5824228\n",
        "\n",
        "# Mount Google Drive\n",
        "from google.colab import drive # import drive from google colab\n",
        "\n",
        "ROOT = \"/content/drive\"     # default location for the drive\n",
        "print(ROOT)                 # print content of ROOT (Optional)\n",
        "\n",
        "drive.mount(ROOT)           # we mount the google drive at /content/drive"
      ]
    },
    {
      "cell_type": "code",
      "execution_count": null,
      "metadata": {
        "colab": {
          "base_uri": "https://localhost:8080/",
          "height": 35
        },
        "id": "VoDpTHry6yrr",
        "outputId": "7210f3b1-ac5e-4b23-898c-58b08f4f6313",
        "vscode": {
          "languageId": "python"
        }
      },
      "outputs": [
        {
          "data": {
            "application/vnd.google.colaboratory.intrinsic+json": {
              "type": "string"
            },
            "text/plain": [
              "'/content/drive/MyDrive'"
            ]
          },
          "execution_count": 50,
          "metadata": {},
          "output_type": "execute_result"
        }
      ],
      "source": [
        "%pwd"
      ]
    },
    {
      "cell_type": "code",
      "execution_count": null,
      "metadata": {
        "colab": {
          "base_uri": "https://localhost:8080/"
        },
        "id": "jfEQMjNT7wKY",
        "outputId": "3091387a-ebd4-4705-9779-b5494bc7d250",
        "vscode": {
          "languageId": "python"
        }
      },
      "outputs": [
        {
          "name": "stdout",
          "output_type": "stream",
          "text": [
            "/content/drive/MyDrive\n",
            "/content/drive\n",
            "/content\n",
            "/content/drive/MyDrive/Colab Notebooks\n"
          ]
        }
      ],
      "source": [
        "%cd ..\n",
        "%cd ..\n",
        "%cd ..\n",
        "%cd /content/drive/MyDrive/Colab Notebooks"
      ]
    },
    {
      "cell_type": "code",
      "execution_count": null,
      "metadata": {
        "id": "kK7-qavBNhtB",
        "vscode": {
          "languageId": "python"
        }
      },
      "outputs": [],
      "source": [
        "# Python Exploratory Data Analysis (EDA) on NYC Airbnb\n",
        "# https://medium.com/analytics-vidhya/python-exploratory-data-analysis-eda-on-nyc-airbnb-cbeabd622e30\n",
        "# https://www.kaggle.com/datasets/dgomonov/new-york-city-airbnb-open-data"
      ]
    },
    {
      "cell_type": "markdown",
      "metadata": {
        "id": "QPvuB5OEiMod"
      },
      "source": [
        "# Inicializar bibliotecas"
      ]
    },
    {
      "cell_type": "code",
      "execution_count": null,
      "metadata": {
        "id": "yIgcsGKC5SgP",
        "vscode": {
          "languageId": "python"
        }
      },
      "outputs": [],
      "source": [
        "# Importar pacotes necessários -> pandas, matplotlib, seaborn\n",
        "\n",
        "import pandas as pd\n",
        "import matplotlib.pyplot as plt\n",
        "import seaborn as sns\n",
        "\n",
        "%matplotlib inline"
      ]
    },
    {
      "cell_type": "markdown",
      "metadata": {
        "id": "uRInFgS6iUB3"
      },
      "source": [
        "# Carregar dados brutos"
      ]
    },
    {
      "cell_type": "code",
      "execution_count": null,
      "metadata": {
        "id": "uKtJi7_uB_gX",
        "vscode": {
          "languageId": "python"
        }
      },
      "outputs": [],
      "source": [
        "# Inicializar dados brutos\n",
        "# Importar o arquivos listings.csv para um Dataframe\n",
        "\n",
        "df = pd.read_csv(\"https://www.dropbox.com/s/33gfbmmc09b2olm/listings.csv?dl=1\")"
      ]
    },
    {
      "cell_type": "code",
      "execution_count": null,
      "metadata": {
        "id": "I2SrDuk93x5A",
        "vscode": {
          "languageId": "python"
        }
      },
      "outputs": [],
      "source": [
        "# http://insideairbnb.com/get-the-data/\n",
        "# Quarterly data for the last year for each region is avaiable for free download on this page,\n",
        "# or if you are interested in monthly or archived data, you could make an archived data request.\n",
        "###################################\n",
        "# listings.csv\n",
        "\n",
        "# id\n",
        "# name\n",
        "# host_id\n",
        "# host_name\n",
        "# neighbourhood_group\n",
        "# neighbourhood\n",
        "# latitude\n",
        "# longitude\n",
        "# room_type\n",
        "# price\n",
        "# minimum_nights\n",
        "# number_of_reviews\n",
        "# last_review\n",
        "# reviews_per_month\n",
        "# calculated_host_listings_count\n",
        "# availability_365\n",
        "# number_of_reviews_ltm\n",
        "# license\n",
        "###################################\n",
        "# calendar.csv.gz\n",
        "\n",
        "# listing_id\n",
        "# date,available\n",
        "# price\n",
        "# adjusted_price\n",
        "# minimum_nights\n",
        "# maximum_nights\n",
        "\n",
        "###################################\n",
        "# reviews.csv\n",
        "\n",
        "# listing_id\n",
        "# date\n",
        "\n",
        "# reviews.gz\n",
        "# listing_id\n",
        "# id,date\n",
        "# reviewer_id\n",
        "# reviewer_name\n",
        "# comments\n",
        "\n",
        "###################################\n",
        "# neighbourhoods.csv\n",
        "\n",
        "# neighbourhood_group\n",
        "# neighbourhood\n",
        "\n",
        "###################################\n",
        "# neighbourhoods.geojson\n",
        "###################################"
      ]
    },
    {
      "cell_type": "code",
      "execution_count": null,
      "metadata": {
        "colab": {
          "base_uri": "https://localhost:8080/",
          "height": 478
        },
        "id": "BMcxs7EnPdfe",
        "outputId": "740049f0-7f00-483a-86bd-bfd8a7ee0c67",
        "vscode": {
          "languageId": "python"
        }
      },
      "outputs": [
        {
          "data": {
            "text/html": [
              "\n",
              "  <div id=\"df-218c3d73-d757-4a37-8b79-a20ab2bd2529\">\n",
              "    <div class=\"colab-df-container\">\n",
              "      <div>\n",
              "<style scoped>\n",
              "    .dataframe tbody tr th:only-of-type {\n",
              "        vertical-align: middle;\n",
              "    }\n",
              "\n",
              "    .dataframe tbody tr th {\n",
              "        vertical-align: top;\n",
              "    }\n",
              "\n",
              "    .dataframe thead th {\n",
              "        text-align: right;\n",
              "    }\n",
              "</style>\n",
              "<table border=\"1\" class=\"dataframe\">\n",
              "  <thead>\n",
              "    <tr style=\"text-align: right;\">\n",
              "      <th></th>\n",
              "      <th>id</th>\n",
              "      <th>name</th>\n",
              "      <th>host_id</th>\n",
              "      <th>host_name</th>\n",
              "      <th>neighbourhood_group</th>\n",
              "      <th>neighbourhood</th>\n",
              "      <th>latitude</th>\n",
              "      <th>longitude</th>\n",
              "      <th>room_type</th>\n",
              "      <th>price</th>\n",
              "      <th>minimum_nights</th>\n",
              "      <th>number_of_reviews</th>\n",
              "      <th>last_review</th>\n",
              "      <th>reviews_per_month</th>\n",
              "      <th>calculated_host_listings_count</th>\n",
              "      <th>availability_365</th>\n",
              "    </tr>\n",
              "  </thead>\n",
              "  <tbody>\n",
              "    <tr>\n",
              "      <th>0</th>\n",
              "      <td>17878</td>\n",
              "      <td>Very Nice 2Br in Copacabana w. balcony, fast WiFi</td>\n",
              "      <td>68997</td>\n",
              "      <td>Matthias</td>\n",
              "      <td>NaN</td>\n",
              "      <td>Copacabana</td>\n",
              "      <td>-22.96599</td>\n",
              "      <td>-43.17940</td>\n",
              "      <td>Entire home/apt</td>\n",
              "      <td>190</td>\n",
              "      <td>5</td>\n",
              "      <td>260</td>\n",
              "      <td>2021-02-08</td>\n",
              "      <td>1.98</td>\n",
              "      <td>1</td>\n",
              "      <td>343</td>\n",
              "    </tr>\n",
              "    <tr>\n",
              "      <th>1</th>\n",
              "      <td>24480</td>\n",
              "      <td>Nice and cozy near Ipanema Beach</td>\n",
              "      <td>99249</td>\n",
              "      <td>Goya</td>\n",
              "      <td>NaN</td>\n",
              "      <td>Ipanema</td>\n",
              "      <td>-22.98405</td>\n",
              "      <td>-43.20189</td>\n",
              "      <td>Entire home/apt</td>\n",
              "      <td>311</td>\n",
              "      <td>3</td>\n",
              "      <td>85</td>\n",
              "      <td>2018-02-14</td>\n",
              "      <td>0.66</td>\n",
              "      <td>1</td>\n",
              "      <td>73</td>\n",
              "    </tr>\n",
              "    <tr>\n",
              "      <th>2</th>\n",
              "      <td>35636</td>\n",
              "      <td>Cosy flat close to Ipanema beach</td>\n",
              "      <td>153232</td>\n",
              "      <td>Patricia</td>\n",
              "      <td>NaN</td>\n",
              "      <td>Ipanema</td>\n",
              "      <td>-22.98839</td>\n",
              "      <td>-43.19232</td>\n",
              "      <td>Entire home/apt</td>\n",
              "      <td>267</td>\n",
              "      <td>2</td>\n",
              "      <td>181</td>\n",
              "      <td>2020-03-15</td>\n",
              "      <td>1.98</td>\n",
              "      <td>1</td>\n",
              "      <td>272</td>\n",
              "    </tr>\n",
              "    <tr>\n",
              "      <th>3</th>\n",
              "      <td>35764</td>\n",
              "      <td>COPACABANA SEA BREEZE  -  RIO - 20 X Superhost</td>\n",
              "      <td>153691</td>\n",
              "      <td>Patricia Miranda &amp; Paulo</td>\n",
              "      <td>NaN</td>\n",
              "      <td>Copacabana</td>\n",
              "      <td>-22.98107</td>\n",
              "      <td>-43.19136</td>\n",
              "      <td>Entire home/apt</td>\n",
              "      <td>120</td>\n",
              "      <td>3</td>\n",
              "      <td>359</td>\n",
              "      <td>2021-04-21</td>\n",
              "      <td>2.79</td>\n",
              "      <td>1</td>\n",
              "      <td>139</td>\n",
              "    </tr>\n",
              "    <tr>\n",
              "      <th>4</th>\n",
              "      <td>41198</td>\n",
              "      <td>Modern 2bed,Top end of Copacabana</td>\n",
              "      <td>178975</td>\n",
              "      <td>Nicky</td>\n",
              "      <td>NaN</td>\n",
              "      <td>Copacabana</td>\n",
              "      <td>-22.98102</td>\n",
              "      <td>-43.19172</td>\n",
              "      <td>Entire home/apt</td>\n",
              "      <td>493</td>\n",
              "      <td>3</td>\n",
              "      <td>18</td>\n",
              "      <td>2016-02-09</td>\n",
              "      <td>0.18</td>\n",
              "      <td>2</td>\n",
              "      <td>365</td>\n",
              "    </tr>\n",
              "  </tbody>\n",
              "</table>\n",
              "</div>\n",
              "      <button class=\"colab-df-convert\" onclick=\"convertToInteractive('df-218c3d73-d757-4a37-8b79-a20ab2bd2529')\"\n",
              "              title=\"Convert this dataframe to an interactive table.\"\n",
              "              style=\"display:none;\">\n",
              "        \n",
              "  <svg xmlns=\"http://www.w3.org/2000/svg\" height=\"24px\"viewBox=\"0 0 24 24\"\n",
              "       width=\"24px\">\n",
              "    <path d=\"M0 0h24v24H0V0z\" fill=\"none\"/>\n",
              "    <path d=\"M18.56 5.44l.94 2.06.94-2.06 2.06-.94-2.06-.94-.94-2.06-.94 2.06-2.06.94zm-11 1L8.5 8.5l.94-2.06 2.06-.94-2.06-.94L8.5 2.5l-.94 2.06-2.06.94zm10 10l.94 2.06.94-2.06 2.06-.94-2.06-.94-.94-2.06-.94 2.06-2.06.94z\"/><path d=\"M17.41 7.96l-1.37-1.37c-.4-.4-.92-.59-1.43-.59-.52 0-1.04.2-1.43.59L10.3 9.45l-7.72 7.72c-.78.78-.78 2.05 0 2.83L4 21.41c.39.39.9.59 1.41.59.51 0 1.02-.2 1.41-.59l7.78-7.78 2.81-2.81c.8-.78.8-2.07 0-2.86zM5.41 20L4 18.59l7.72-7.72 1.47 1.35L5.41 20z\"/>\n",
              "  </svg>\n",
              "      </button>\n",
              "      \n",
              "  <style>\n",
              "    .colab-df-container {\n",
              "      display:flex;\n",
              "      flex-wrap:wrap;\n",
              "      gap: 12px;\n",
              "    }\n",
              "\n",
              "    .colab-df-convert {\n",
              "      background-color: #E8F0FE;\n",
              "      border: none;\n",
              "      border-radius: 50%;\n",
              "      cursor: pointer;\n",
              "      display: none;\n",
              "      fill: #1967D2;\n",
              "      height: 32px;\n",
              "      padding: 0 0 0 0;\n",
              "      width: 32px;\n",
              "    }\n",
              "\n",
              "    .colab-df-convert:hover {\n",
              "      background-color: #E2EBFA;\n",
              "      box-shadow: 0px 1px 2px rgba(60, 64, 67, 0.3), 0px 1px 3px 1px rgba(60, 64, 67, 0.15);\n",
              "      fill: #174EA6;\n",
              "    }\n",
              "\n",
              "    [theme=dark] .colab-df-convert {\n",
              "      background-color: #3B4455;\n",
              "      fill: #D2E3FC;\n",
              "    }\n",
              "\n",
              "    [theme=dark] .colab-df-convert:hover {\n",
              "      background-color: #434B5C;\n",
              "      box-shadow: 0px 1px 3px 1px rgba(0, 0, 0, 0.15);\n",
              "      filter: drop-shadow(0px 1px 2px rgba(0, 0, 0, 0.3));\n",
              "      fill: #FFFFFF;\n",
              "    }\n",
              "  </style>\n",
              "\n",
              "      <script>\n",
              "        const buttonEl =\n",
              "          document.querySelector('#df-218c3d73-d757-4a37-8b79-a20ab2bd2529 button.colab-df-convert');\n",
              "        buttonEl.style.display =\n",
              "          google.colab.kernel.accessAllowed ? 'block' : 'none';\n",
              "\n",
              "        async function convertToInteractive(key) {\n",
              "          const element = document.querySelector('#df-218c3d73-d757-4a37-8b79-a20ab2bd2529');\n",
              "          const dataTable =\n",
              "            await google.colab.kernel.invokeFunction('convertToInteractive',\n",
              "                                                     [key], {});\n",
              "          if (!dataTable) return;\n",
              "\n",
              "          const docLinkHtml = 'Like what you see? Visit the ' +\n",
              "            '<a target=\"_blank\" href=https://colab.research.google.com/notebooks/data_table.ipynb>data table notebook</a>'\n",
              "            + ' to learn more about interactive tables.';\n",
              "          element.innerHTML = '';\n",
              "          dataTable['output_type'] = 'display_data';\n",
              "          await google.colab.output.renderOutput(dataTable, element);\n",
              "          const docLink = document.createElement('div');\n",
              "          docLink.innerHTML = docLinkHtml;\n",
              "          element.appendChild(docLink);\n",
              "        }\n",
              "      </script>\n",
              "    </div>\n",
              "  </div>\n",
              "  "
            ],
            "text/plain": [
              "      id                                               name  host_id  \\\n",
              "0  17878  Very Nice 2Br in Copacabana w. balcony, fast WiFi    68997   \n",
              "1  24480                   Nice and cozy near Ipanema Beach    99249   \n",
              "2  35636                   Cosy flat close to Ipanema beach   153232   \n",
              "3  35764     COPACABANA SEA BREEZE  -  RIO - 20 X Superhost   153691   \n",
              "4  41198                  Modern 2bed,Top end of Copacabana   178975   \n",
              "\n",
              "                  host_name  neighbourhood_group neighbourhood  latitude  \\\n",
              "0                  Matthias                  NaN    Copacabana -22.96599   \n",
              "1                      Goya                  NaN       Ipanema -22.98405   \n",
              "2                  Patricia                  NaN       Ipanema -22.98839   \n",
              "3  Patricia Miranda & Paulo                  NaN    Copacabana -22.98107   \n",
              "4                     Nicky                  NaN    Copacabana -22.98102   \n",
              "\n",
              "   longitude        room_type  price  minimum_nights  number_of_reviews  \\\n",
              "0  -43.17940  Entire home/apt    190               5                260   \n",
              "1  -43.20189  Entire home/apt    311               3                 85   \n",
              "2  -43.19232  Entire home/apt    267               2                181   \n",
              "3  -43.19136  Entire home/apt    120               3                359   \n",
              "4  -43.19172  Entire home/apt    493               3                 18   \n",
              "\n",
              "  last_review  reviews_per_month  calculated_host_listings_count  \\\n",
              "0  2021-02-08               1.98                               1   \n",
              "1  2018-02-14               0.66                               1   \n",
              "2  2020-03-15               1.98                               1   \n",
              "3  2021-04-21               2.79                               1   \n",
              "4  2016-02-09               0.18                               2   \n",
              "\n",
              "   availability_365  \n",
              "0               343  \n",
              "1                73  \n",
              "2               272  \n",
              "3               139  \n",
              "4               365  "
            ]
          },
          "execution_count": 3,
          "metadata": {},
          "output_type": "execute_result"
        }
      ],
      "source": [
        "# Q1. Quantos atributos (variáveis) e quantas entradas o nosso conjunto de dados possui? Quais os tipos das variáveis?\n",
        "\n",
        "# Verificar primeiras características dos dados brutos a serem analisados\n",
        "# Mostrar as 5 primeiras entradas, método head()\n",
        "\n",
        "df.head()"
      ]
    },
    {
      "cell_type": "code",
      "execution_count": null,
      "metadata": {
        "colab": {
          "base_uri": "https://localhost:8080/"
        },
        "id": "rUy7AeblOLPy",
        "outputId": "f94758f0-f156-44e3-8a1a-a38295eb5b2d",
        "vscode": {
          "languageId": "python"
        }
      },
      "outputs": [
        {
          "data": {
            "text/plain": [
              "Index(['id', 'name', 'host_id', 'host_name', 'neighbourhood_group',\n",
              "       'neighbourhood', 'latitude', 'longitude', 'room_type', 'price',\n",
              "       'minimum_nights', 'number_of_reviews', 'last_review',\n",
              "       'reviews_per_month', 'calculated_host_listings_count',\n",
              "       'availability_365'],\n",
              "      dtype='object')"
            ]
          },
          "execution_count": 4,
          "metadata": {},
          "output_type": "execute_result"
        }
      ],
      "source": [
        "# Descrever o dicionário das variáveis do dataset; método columns\n",
        "\n",
        "df.columns"
      ]
    },
    {
      "cell_type": "code",
      "execution_count": null,
      "metadata": {
        "id": "cx-f2PByCDtb",
        "vscode": {
          "languageId": "python"
        }
      },
      "outputs": [],
      "source": [
        "# Caracterizar dataset: métodos describe(), info(), shape()..."
      ]
    },
    {
      "cell_type": "code",
      "execution_count": null,
      "metadata": {
        "colab": {
          "base_uri": "https://localhost:8080/",
          "height": 364
        },
        "id": "Uufz8tWgk9Pg",
        "outputId": "7c820a38-22e8-44df-b85a-8a73377ef5b1",
        "vscode": {
          "languageId": "python"
        }
      },
      "outputs": [
        {
          "data": {
            "text/html": [
              "\n",
              "  <div id=\"df-a61852d0-b5eb-4883-bc26-62333a67e2dc\">\n",
              "    <div class=\"colab-df-container\">\n",
              "      <div>\n",
              "<style scoped>\n",
              "    .dataframe tbody tr th:only-of-type {\n",
              "        vertical-align: middle;\n",
              "    }\n",
              "\n",
              "    .dataframe tbody tr th {\n",
              "        vertical-align: top;\n",
              "    }\n",
              "\n",
              "    .dataframe thead th {\n",
              "        text-align: right;\n",
              "    }\n",
              "</style>\n",
              "<table border=\"1\" class=\"dataframe\">\n",
              "  <thead>\n",
              "    <tr style=\"text-align: right;\">\n",
              "      <th></th>\n",
              "      <th>id</th>\n",
              "      <th>host_id</th>\n",
              "      <th>neighbourhood_group</th>\n",
              "      <th>latitude</th>\n",
              "      <th>longitude</th>\n",
              "      <th>price</th>\n",
              "      <th>minimum_nights</th>\n",
              "      <th>number_of_reviews</th>\n",
              "      <th>reviews_per_month</th>\n",
              "      <th>calculated_host_listings_count</th>\n",
              "      <th>availability_365</th>\n",
              "    </tr>\n",
              "  </thead>\n",
              "  <tbody>\n",
              "    <tr>\n",
              "      <th>count</th>\n",
              "      <td>2.646700e+04</td>\n",
              "      <td>2.646700e+04</td>\n",
              "      <td>0.0</td>\n",
              "      <td>26467.000000</td>\n",
              "      <td>26467.000000</td>\n",
              "      <td>26467.000000</td>\n",
              "      <td>26467.00000</td>\n",
              "      <td>26467.000000</td>\n",
              "      <td>16643.000000</td>\n",
              "      <td>26467.000000</td>\n",
              "      <td>26467.000000</td>\n",
              "    </tr>\n",
              "    <tr>\n",
              "      <th>mean</th>\n",
              "      <td>2.534654e+07</td>\n",
              "      <td>1.005248e+08</td>\n",
              "      <td>NaN</td>\n",
              "      <td>-22.965703</td>\n",
              "      <td>-43.249105</td>\n",
              "      <td>734.860052</td>\n",
              "      <td>4.80096</td>\n",
              "      <td>12.417501</td>\n",
              "      <td>0.580291</td>\n",
              "      <td>6.919220</td>\n",
              "      <td>214.943099</td>\n",
              "    </tr>\n",
              "    <tr>\n",
              "      <th>std</th>\n",
              "      <td>1.583781e+07</td>\n",
              "      <td>1.086789e+08</td>\n",
              "      <td>NaN</td>\n",
              "      <td>0.035131</td>\n",
              "      <td>0.096835</td>\n",
              "      <td>5274.600381</td>\n",
              "      <td>19.21445</td>\n",
              "      <td>30.313117</td>\n",
              "      <td>0.823784</td>\n",
              "      <td>21.310525</td>\n",
              "      <td>143.136520</td>\n",
              "    </tr>\n",
              "    <tr>\n",
              "      <th>min</th>\n",
              "      <td>1.787800e+04</td>\n",
              "      <td>3.607000e+03</td>\n",
              "      <td>NaN</td>\n",
              "      <td>-23.072620</td>\n",
              "      <td>-43.701200</td>\n",
              "      <td>0.000000</td>\n",
              "      <td>1.00000</td>\n",
              "      <td>0.000000</td>\n",
              "      <td>0.010000</td>\n",
              "      <td>1.000000</td>\n",
              "      <td>0.000000</td>\n",
              "    </tr>\n",
              "    <tr>\n",
              "      <th>25%</th>\n",
              "      <td>1.220318e+07</td>\n",
              "      <td>1.431500e+07</td>\n",
              "      <td>NaN</td>\n",
              "      <td>-22.984570</td>\n",
              "      <td>-43.305785</td>\n",
              "      <td>150.000000</td>\n",
              "      <td>1.00000</td>\n",
              "      <td>0.000000</td>\n",
              "      <td>0.080000</td>\n",
              "      <td>1.000000</td>\n",
              "      <td>88.000000</td>\n",
              "    </tr>\n",
              "    <tr>\n",
              "      <th>50%</th>\n",
              "      <td>2.382806e+07</td>\n",
              "      <td>6.033966e+07</td>\n",
              "      <td>NaN</td>\n",
              "      <td>-22.971580</td>\n",
              "      <td>-43.196330</td>\n",
              "      <td>260.000000</td>\n",
              "      <td>2.00000</td>\n",
              "      <td>2.000000</td>\n",
              "      <td>0.260000</td>\n",
              "      <td>1.000000</td>\n",
              "      <td>223.000000</td>\n",
              "    </tr>\n",
              "    <tr>\n",
              "      <th>75%</th>\n",
              "      <td>4.096720e+07</td>\n",
              "      <td>1.546859e+08</td>\n",
              "      <td>NaN</td>\n",
              "      <td>-22.950625</td>\n",
              "      <td>-43.186260</td>\n",
              "      <td>529.000000</td>\n",
              "      <td>4.00000</td>\n",
              "      <td>9.000000</td>\n",
              "      <td>0.770000</td>\n",
              "      <td>3.000000</td>\n",
              "      <td>364.000000</td>\n",
              "    </tr>\n",
              "    <tr>\n",
              "      <th>max</th>\n",
              "      <td>4.941930e+07</td>\n",
              "      <td>3.981827e+08</td>\n",
              "      <td>NaN</td>\n",
              "      <td>-22.749690</td>\n",
              "      <td>-43.104400</td>\n",
              "      <td>623592.000000</td>\n",
              "      <td>1000.00000</td>\n",
              "      <td>452.000000</td>\n",
              "      <td>26.430000</td>\n",
              "      <td>199.000000</td>\n",
              "      <td>365.000000</td>\n",
              "    </tr>\n",
              "  </tbody>\n",
              "</table>\n",
              "</div>\n",
              "      <button class=\"colab-df-convert\" onclick=\"convertToInteractive('df-a61852d0-b5eb-4883-bc26-62333a67e2dc')\"\n",
              "              title=\"Convert this dataframe to an interactive table.\"\n",
              "              style=\"display:none;\">\n",
              "        \n",
              "  <svg xmlns=\"http://www.w3.org/2000/svg\" height=\"24px\"viewBox=\"0 0 24 24\"\n",
              "       width=\"24px\">\n",
              "    <path d=\"M0 0h24v24H0V0z\" fill=\"none\"/>\n",
              "    <path d=\"M18.56 5.44l.94 2.06.94-2.06 2.06-.94-2.06-.94-.94-2.06-.94 2.06-2.06.94zm-11 1L8.5 8.5l.94-2.06 2.06-.94-2.06-.94L8.5 2.5l-.94 2.06-2.06.94zm10 10l.94 2.06.94-2.06 2.06-.94-2.06-.94-.94-2.06-.94 2.06-2.06.94z\"/><path d=\"M17.41 7.96l-1.37-1.37c-.4-.4-.92-.59-1.43-.59-.52 0-1.04.2-1.43.59L10.3 9.45l-7.72 7.72c-.78.78-.78 2.05 0 2.83L4 21.41c.39.39.9.59 1.41.59.51 0 1.02-.2 1.41-.59l7.78-7.78 2.81-2.81c.8-.78.8-2.07 0-2.86zM5.41 20L4 18.59l7.72-7.72 1.47 1.35L5.41 20z\"/>\n",
              "  </svg>\n",
              "      </button>\n",
              "      \n",
              "  <style>\n",
              "    .colab-df-container {\n",
              "      display:flex;\n",
              "      flex-wrap:wrap;\n",
              "      gap: 12px;\n",
              "    }\n",
              "\n",
              "    .colab-df-convert {\n",
              "      background-color: #E8F0FE;\n",
              "      border: none;\n",
              "      border-radius: 50%;\n",
              "      cursor: pointer;\n",
              "      display: none;\n",
              "      fill: #1967D2;\n",
              "      height: 32px;\n",
              "      padding: 0 0 0 0;\n",
              "      width: 32px;\n",
              "    }\n",
              "\n",
              "    .colab-df-convert:hover {\n",
              "      background-color: #E2EBFA;\n",
              "      box-shadow: 0px 1px 2px rgba(60, 64, 67, 0.3), 0px 1px 3px 1px rgba(60, 64, 67, 0.15);\n",
              "      fill: #174EA6;\n",
              "    }\n",
              "\n",
              "    [theme=dark] .colab-df-convert {\n",
              "      background-color: #3B4455;\n",
              "      fill: #D2E3FC;\n",
              "    }\n",
              "\n",
              "    [theme=dark] .colab-df-convert:hover {\n",
              "      background-color: #434B5C;\n",
              "      box-shadow: 0px 1px 3px 1px rgba(0, 0, 0, 0.15);\n",
              "      filter: drop-shadow(0px 1px 2px rgba(0, 0, 0, 0.3));\n",
              "      fill: #FFFFFF;\n",
              "    }\n",
              "  </style>\n",
              "\n",
              "      <script>\n",
              "        const buttonEl =\n",
              "          document.querySelector('#df-a61852d0-b5eb-4883-bc26-62333a67e2dc button.colab-df-convert');\n",
              "        buttonEl.style.display =\n",
              "          google.colab.kernel.accessAllowed ? 'block' : 'none';\n",
              "\n",
              "        async function convertToInteractive(key) {\n",
              "          const element = document.querySelector('#df-a61852d0-b5eb-4883-bc26-62333a67e2dc');\n",
              "          const dataTable =\n",
              "            await google.colab.kernel.invokeFunction('convertToInteractive',\n",
              "                                                     [key], {});\n",
              "          if (!dataTable) return;\n",
              "\n",
              "          const docLinkHtml = 'Like what you see? Visit the ' +\n",
              "            '<a target=\"_blank\" href=https://colab.research.google.com/notebooks/data_table.ipynb>data table notebook</a>'\n",
              "            + ' to learn more about interactive tables.';\n",
              "          element.innerHTML = '';\n",
              "          dataTable['output_type'] = 'display_data';\n",
              "          await google.colab.output.renderOutput(dataTable, element);\n",
              "          const docLink = document.createElement('div');\n",
              "          docLink.innerHTML = docLinkHtml;\n",
              "          element.appendChild(docLink);\n",
              "        }\n",
              "      </script>\n",
              "    </div>\n",
              "  </div>\n",
              "  "
            ],
            "text/plain": [
              "                 id       host_id  neighbourhood_group      latitude  \\\n",
              "count  2.646700e+04  2.646700e+04                  0.0  26467.000000   \n",
              "mean   2.534654e+07  1.005248e+08                  NaN    -22.965703   \n",
              "std    1.583781e+07  1.086789e+08                  NaN      0.035131   \n",
              "min    1.787800e+04  3.607000e+03                  NaN    -23.072620   \n",
              "25%    1.220318e+07  1.431500e+07                  NaN    -22.984570   \n",
              "50%    2.382806e+07  6.033966e+07                  NaN    -22.971580   \n",
              "75%    4.096720e+07  1.546859e+08                  NaN    -22.950625   \n",
              "max    4.941930e+07  3.981827e+08                  NaN    -22.749690   \n",
              "\n",
              "          longitude          price  minimum_nights  number_of_reviews  \\\n",
              "count  26467.000000   26467.000000     26467.00000       26467.000000   \n",
              "mean     -43.249105     734.860052         4.80096          12.417501   \n",
              "std        0.096835    5274.600381        19.21445          30.313117   \n",
              "min      -43.701200       0.000000         1.00000           0.000000   \n",
              "25%      -43.305785     150.000000         1.00000           0.000000   \n",
              "50%      -43.196330     260.000000         2.00000           2.000000   \n",
              "75%      -43.186260     529.000000         4.00000           9.000000   \n",
              "max      -43.104400  623592.000000      1000.00000         452.000000   \n",
              "\n",
              "       reviews_per_month  calculated_host_listings_count  availability_365  \n",
              "count       16643.000000                    26467.000000      26467.000000  \n",
              "mean            0.580291                        6.919220        214.943099  \n",
              "std             0.823784                       21.310525        143.136520  \n",
              "min             0.010000                        1.000000          0.000000  \n",
              "25%             0.080000                        1.000000         88.000000  \n",
              "50%             0.260000                        1.000000        223.000000  \n",
              "75%             0.770000                        3.000000        364.000000  \n",
              "max            26.430000                      199.000000        365.000000  "
            ]
          },
          "execution_count": 5,
          "metadata": {},
          "output_type": "execute_result"
        }
      ],
      "source": [
        "df.describe()"
      ]
    },
    {
      "cell_type": "code",
      "execution_count": null,
      "metadata": {
        "colab": {
          "base_uri": "https://localhost:8080/"
        },
        "id": "ptVkAt4uk9Dw",
        "outputId": "1e88cb7d-6e54-486a-8931-47186f0c2690",
        "vscode": {
          "languageId": "python"
        }
      },
      "outputs": [
        {
          "name": "stdout",
          "output_type": "stream",
          "text": [
            "<class 'pandas.core.frame.DataFrame'>\n",
            "RangeIndex: 26467 entries, 0 to 26466\n",
            "Data columns (total 16 columns):\n",
            " #   Column                          Non-Null Count  Dtype  \n",
            "---  ------                          --------------  -----  \n",
            " 0   id                              26467 non-null  int64  \n",
            " 1   name                            26438 non-null  object \n",
            " 2   host_id                         26467 non-null  int64  \n",
            " 3   host_name                       25610 non-null  object \n",
            " 4   neighbourhood_group             0 non-null      float64\n",
            " 5   neighbourhood                   26467 non-null  object \n",
            " 6   latitude                        26467 non-null  float64\n",
            " 7   longitude                       26467 non-null  float64\n",
            " 8   room_type                       26467 non-null  object \n",
            " 9   price                           26467 non-null  int64  \n",
            " 10  minimum_nights                  26467 non-null  int64  \n",
            " 11  number_of_reviews               26467 non-null  int64  \n",
            " 12  last_review                     16643 non-null  object \n",
            " 13  reviews_per_month               16643 non-null  float64\n",
            " 14  calculated_host_listings_count  26467 non-null  int64  \n",
            " 15  availability_365                26467 non-null  int64  \n",
            "dtypes: float64(4), int64(7), object(5)\n",
            "memory usage: 3.2+ MB\n"
          ]
        }
      ],
      "source": [
        "df.info()"
      ]
    },
    {
      "cell_type": "code",
      "execution_count": null,
      "metadata": {
        "colab": {
          "base_uri": "https://localhost:8080/"
        },
        "id": "ZvRF5PQ_lD_W",
        "outputId": "dc7b56f9-f629-4f96-c5d4-6d14ede8fbb4",
        "vscode": {
          "languageId": "python"
        }
      },
      "outputs": [
        {
          "data": {
            "text/plain": [
              "(26467, 16)"
            ]
          },
          "execution_count": 13,
          "metadata": {},
          "output_type": "execute_result"
        }
      ],
      "source": [
        "# Verificar 'forma', quantidade de linhas e colunas -> método shape\n",
        "df.shape"
      ]
    },
    {
      "cell_type": "code",
      "execution_count": null,
      "metadata": {
        "colab": {
          "base_uri": "https://localhost:8080/",
          "height": 364
        },
        "id": "nGqt6tOVC0PI",
        "outputId": "9ac4a5e6-172e-47cf-e767-18e5717521fa",
        "vscode": {
          "languageId": "python"
        }
      },
      "outputs": [
        {
          "name": "stdout",
          "output_type": "stream",
          "text": [
            "Entradas:\t 26467\n",
            "Variáveis:\t 16\n",
            "\n"
          ]
        },
        {
          "data": {
            "text/plain": [
              "id                                  int64\n",
              "name                               object\n",
              "host_id                             int64\n",
              "host_name                          object\n",
              "neighbourhood_group               float64\n",
              "neighbourhood                      object\n",
              "latitude                          float64\n",
              "longitude                         float64\n",
              "room_type                          object\n",
              "price                               int64\n",
              "minimum_nights                      int64\n",
              "number_of_reviews                   int64\n",
              "last_review                        object\n",
              "reviews_per_month                 float64\n",
              "calculated_host_listings_count      int64\n",
              "availability_365                    int64\n",
              "dtype: object"
            ]
          },
          "metadata": {},
          "output_type": "display_data"
        }
      ],
      "source": [
        "# Caracterizar tamanho do dataset\n",
        "# Identificar o volume de dados do DataFrame -> describe, length..etc(?)\n",
        "\n",
        "print(\"Entradas:\\t {}\".format(df.shape[0]))\n",
        "print(\"Variáveis:\\t {}\\n\".format(df.shape[1]))\n",
        "\n",
        "# Verificar as 5 primeiras entradas do dataset\n",
        "display(df.dtypes)"
      ]
    },
    {
      "cell_type": "code",
      "execution_count": null,
      "metadata": {
        "colab": {
          "base_uri": "https://localhost:8080/"
        },
        "id": "zoydpqNvlMEH",
        "outputId": "8a5c233b-9ff0-4b6d-be7f-c218c1f5eaa1",
        "vscode": {
          "languageId": "python"
        }
      },
      "outputs": [
        {
          "data": {
            "text/plain": [
              "id                                    0\n",
              "name                                 29\n",
              "host_id                               0\n",
              "host_name                           857\n",
              "neighbourhood_group               26467\n",
              "neighbourhood                         0\n",
              "latitude                              0\n",
              "longitude                             0\n",
              "room_type                             0\n",
              "price                                 0\n",
              "minimum_nights                        0\n",
              "number_of_reviews                     0\n",
              "last_review                        9824\n",
              "reviews_per_month                  9824\n",
              "calculated_host_listings_count        0\n",
              "availability_365                      0\n",
              "dtype: int64"
            ]
          },
          "execution_count": 15,
          "metadata": {},
          "output_type": "execute_result"
        }
      ],
      "source": [
        "# df.isnull() -> retorna df com 'true' ou 'false' em cada célula\n",
        "# se for incluído o método .sum(), é obtida a soma de nulos a cada coluna\n",
        "df.isnull().sum()"
      ]
    },
    {
      "cell_type": "code",
      "execution_count": null,
      "metadata": {
        "colab": {
          "base_uri": "https://localhost:8080/"
        },
        "id": "nZC6qRBaFYu1",
        "outputId": "a229f803-b298-41aa-aec3-77bdbf11bf0a",
        "vscode": {
          "languageId": "python"
        }
      },
      "outputs": [
        {
          "data": {
            "text/plain": [
              "neighbourhood_group               1.000000\n",
              "last_review                       0.371179\n",
              "reviews_per_month                 0.371179\n",
              "host_name                         0.032380\n",
              "name                              0.001096\n",
              "id                                0.000000\n",
              "host_id                           0.000000\n",
              "neighbourhood                     0.000000\n",
              "latitude                          0.000000\n",
              "longitude                         0.000000\n",
              "room_type                         0.000000\n",
              "price                             0.000000\n",
              "minimum_nights                    0.000000\n",
              "number_of_reviews                 0.000000\n",
              "calculated_host_listings_count    0.000000\n",
              "availability_365                  0.000000\n",
              "dtype: float64"
            ]
          },
          "execution_count": 16,
          "metadata": {},
          "output_type": "execute_result"
        }
      ],
      "source": [
        "# Q2. Qual a porcentagem de valores ausentes no dataset?\n",
        "\n",
        "(df.isnull().sum() / df.shape[0]).sort_values(ascending=False)\n",
        "\n",
        "# Caracterizar possíveis inconsistências no dataset\n",
        "# Identificar a porcentagem de valores ausentes do dataset -> df.isnull(), df.shape..sort_values(...)"
      ]
    },
    {
      "cell_type": "code",
      "execution_count": null,
      "metadata": {
        "id": "Xst9QkaVDCg2",
        "vscode": {
          "languageId": "python"
        }
      },
      "outputs": [],
      "source": [
        "# Caracterizar quais variáveis possuem mais possíveis inconsistências\n",
        "# Ordenar em ordem decrescente as variáveis por seus valores ausentes -> df.sort_values(by=['col1'])"
      ]
    },
    {
      "cell_type": "code",
      "execution_count": null,
      "metadata": {
        "colab": {
          "base_uri": "https://localhost:8080/",
          "height": 607
        },
        "id": "ybflNiq7DbiP",
        "outputId": "176f7afe-7ffd-4d2b-f34c-ecb4dfd5a755",
        "vscode": {
          "languageId": "python"
        }
      },
      "outputs": [
        {
          "data": {
            "image/png": "[encoded data removed]",
            "text/plain": [
              "<Figure size 1080x720 with 12 Axes>"
            ]
          },
          "metadata": {
            "needs_background": "light"
          },
          "output_type": "display_data"
        }
      ],
      "source": [
        "# Q3. Qual o tipo de distribuição das variáveis?\n",
        "\n",
        "# Verificar distribuição das variáveis do dataset bruto\n",
        "# Plotar histograma das variáveis numéricas -> df.hist(bins... figsize...)\n",
        "\n",
        "df.hist(bins=15, figsize=(15,10));"
      ]
    },
    {
      "cell_type": "code",
      "execution_count": null,
      "metadata": {
        "id": "gKq_D3zvFD9k",
        "vscode": {
          "languageId": "python"
        }
      },
      "outputs": [],
      "source": [
        "# Verificar a média dos preços\n",
        "# Plotar boxplot para 'price'"
      ]
    },
    {
      "cell_type": "code",
      "execution_count": null,
      "metadata": {
        "id": "9KhzUlsSK-EL",
        "vscode": {
          "languageId": "python"
        }
      },
      "outputs": [],
      "source": [
        "# Q4. Há outliers presentes?\n",
        "\n",
        "# verificar outliers -> realizar limpeza, plotar histogramas novamente\n",
        "\n",
        "df[['price', 'minimum_nights', 'number_of_reviews', 'reviews_per_month',\n",
        "    'calculated_host_listings_count', 'availability_365']].describe()\n",
        "\n",
        "# Olhando o resumo estatístico acima, podemos confirmar algumas hipóteses como:\n",
        "\n",
        "# A variável price possui ....% do valor abaixo de ....., porém seu valor máximo é .......\n",
        "# A quantidade mínima de noites (minimum_nights) está acima de .... dias no ano.\n",
        "\n",
        "# Boxplot para minimum_nights:\n",
        "# minimum_nights\n",
        "df.minimum_nights.plot(kind='box', vert=False, figsize=(15, 3))\n",
        "plt.show()\n",
        "\n",
        "# ver quantidade de valores acima de 30 dias para minimum_nights\n",
        "print(\"minimum_nights: valores acima de 30:\")\n",
        "print(\"{} entradas\".format(len(df[df.minimum_nights > 30])))\n",
        "print(\"{:.4f}%\".format((len(df[df.minimum_nights > 30]) / df.shape[0])*100))\n",
        "\n",
        "# Boxplot para price\n",
        "\n",
        "# price\n",
        "df.price.plot(kind='box', vert=False, figsize=(15, 3),)\n",
        "plt.show()\n",
        "\n",
        "# ver quantidade de valores acima de 1500 para price\n",
        "print(\"\\nprice: valores acima de 1500\")\n",
        "print(\"{} entradas\".format(len(df[df.price > 1500])))\n",
        "print(\"{:.4f}%\".format((len(df[df.price > 1500]) / df.shape[0])*100))\n",
        "\n",
        "# df.price.plot(kind='box', vert=False, xlim=(0,1300), figsize=(15,3));\n",
        "# -------\n",
        "# Histogramas sem outliers\n",
        "# Já que identificamos outliers nas variáveis price e minimum_nights, vamos agora limpar o DataFrame delas e plotar novamente o histograma.\n",
        "\n",
        "# remover os *outliers* em um novo DataFrame\n",
        "df_clean = df.copy()\n",
        "df_clean.drop(df_clean[df_clean.price > 1500].index, axis=0, inplace=True)\n",
        "df_clean.drop(df_clean[df_clean.minimum_nights > 30].index, axis=0, inplace=True)\n",
        "\n",
        "# remover `neighbourhood_group`, pois está vazio\n",
        "df_clean.drop('neighbourhood_group', axis=1, inplace=True)\n",
        "\n",
        "# plotar o histograma para as variáveis numéricas\n",
        "df_clean.hist(bins=15, figsize=(15,10));"
      ]
    },
    {
      "cell_type": "code",
      "execution_count": null,
      "metadata": {
        "id": "XUSmyt4BKP0X",
        "vscode": {
          "languageId": "python"
        }
      },
      "outputs": [],
      "source": [
        "# Q4. Qual a correlação existente entre as variáveis\n",
        "\n",
        "# verificar correlação existente entre variáveis\n",
        "# correlação vs causalidade -> https://www.tylervigen.com/spurious-correlations\n",
        "# https://escoladedados.org/tutoriais/correlacao-nao-e-causalidade-mas-o-que-e-entao/\n",
        "\n",
        "# Correlação significa que existe uma relação entre duas coisas. No nosso contexto, estamos buscando relação ou semelhança entre duas variáveis.\n",
        "\n",
        "# Essa relação pode ser medida, e é função do coeficiente de correlação estabelecer qual a intensidade dela.\n",
        "# Para identificar as correlações existentes entre as variáveis de interesse, vou:\n",
        "\n",
        "# Criar uma matriz de correlação\n",
        "# Gerar um heatmap a partir dessa matriz, usando a biblioteca seaborn\n",
        "\n",
        "# criar uma matriz de correlação\n",
        "corr = df_clean[['price', 'minimum_nights', 'number_of_reviews', 'reviews_per_month',\n",
        "    'calculated_host_listings_count', 'availability_365']].corr()\n",
        "\n",
        "display(corr)\n",
        "\n",
        "sns.heatmap(corr, cmap='RdBu', fmt='.2f', square=True, linecolor='white', annot=True);"
      ]
    },
    {
      "cell_type": "code",
      "execution_count": null,
      "metadata": {
        "id": "HfzsjaM3Kgwl",
        "vscode": {
          "languageId": "python"
        }
      },
      "outputs": [],
      "source": [
        "# Q5. Qual o tipo de imóvel mais alugado no Airbnb?\n",
        "\n",
        "# A coluna da variável room_type indica o tipo de locação que está anunciada no Airbnb.\n",
        "# Se você já alugou no site, sabe que existem opções de apartamentos/casas inteiras, apenas o aluguel de um quarto ou mesmo dividir o quarto com outras pessoas.\n",
        "# Vamos contar a quantidade de ocorrências de cada tipo de aluguel, usando o método value_counts().\n",
        "\n",
        "# verificar maiores frequências -> qual o tipo de imóvel mais alugado no airbnb\n",
        "# verificar quantidade de cada tipo de imóvel disponível\n",
        "# verificar porcentagem de cada tipo de imóvel disponível\n",
        "\n",
        "\n",
        "# mostrar a quantidade de cada tipo de imóvel disponível\n",
        "df_clean.room_type.value_counts()\n",
        "\n",
        "# mostrar a porcentagem de cada tipo de imóvel disponível\n",
        "df_clean.room_type.value_counts() / df_clean.shape[0]"
      ]
    },
    {
      "cell_type": "code",
      "execution_count": null,
      "metadata": {
        "id": "Hc8H-9_BLJgh",
        "vscode": {
          "languageId": "python"
        }
      },
      "outputs": [],
      "source": [
        "# Q6. Qual a localidade mais cara do/da cidade tal?\n",
        "\n",
        "# Uma maneira de se verificar uma variável em função da outra é usando groupby().\n",
        "# No caso, queremos comparar os bairros (neighbourhoods) a partir do preço de locação.\n",
        "\n",
        "df_clean.groupby(['neighbourhood']).price.mean().sort_values(ascending=False)[:10]\n",
        "\n",
        "# verificar localidade (bairro?) mais cara da cidade -> df.groupby(...).price.mean().sort_values()\n",
        "# plotar os imóveis pela latitude-longitude\n",
        "\n",
        "df_clean.plot(kind=\"scatter\", x='longitude', y='latitude', alpha=0.4, c=df_clean['price'], s=8,\n",
        "              cmap=plt.get_cmap('jet'), figsize=(12,8));"
      ]
    },
    {
      "cell_type": "code",
      "execution_count": null,
      "metadata": {
        "id": "lTSaOdMuLWFy",
        "vscode": {
          "languageId": "python"
        }
      },
      "outputs": [],
      "source": [
        "# verificar média do mínimo de noites para aluguel, 'minimum_nights'"
      ]
    },
    {
      "cell_type": "code",
      "execution_count": null,
      "metadata": {
        "id": "1TqZfV0aP7xR",
        "vscode": {
          "languageId": "python"
        }
      },
      "outputs": [],
      "source": [
        "# verificar frequência de termos -> wordcloud\n",
        "# https://www.kaggle.com/code/chirag9073/airbnb-analysis-visualization-and-prediction"
      ]
    },
    {
      "cell_type": "code",
      "execution_count": null,
      "metadata": {
        "id": "l2gE3bn0LhJp",
        "vscode": {
          "languageId": "python"
        }
      },
      "outputs": [],
      "source": [
        "# Conclusões\n",
        "\n",
        "# https://towardsdatascience.com/how-to-sketch-your-data-science-ideas-with-excalidraw-a993d049f55c\n",
        "\n",
        "# Conclusões -> DSNP:\n",
        "# Foi feita apenas uma análise superficial na base de dados do Airbnb, porém já se percebeu que existem outliers em algumas das variáveis.\n",
        "# Também se notou que em algumas localidades há poucos imóveis disponíveis, o que pode distorcer as informações estatísticas de alguns atributos.\n",
        "# Por fim, lembra-se que este dataset é uma versão resumida, ideal apenas para uma abordagem inicial.\n",
        "# Recomenda-se que seja usado, em uma próxima análise exploratória, o conjunto de dados completos, com 106 atributos disponíveis."
      ]
    },
    {
      "cell_type": "code",
      "execution_count": null,
      "metadata": {
        "id": "Dh1x3_yaiMNa",
        "vscode": {
          "languageId": "python"
        }
      },
      "outputs": [],
      "source": []
    }
  ],
  "metadata": {
    "colab": {
      "collapsed_sections": [],
      "name": "DSNP-3-0_02-Análise de Dados e Pandas.ipynb",
      "provenance": [],
      "toc_visible": true
    },
    "kernelspec": {
      "display_name": "Python 3",
      "name": "python3"
    }
  },
  "nbformat": 4,
  "nbformat_minor": 0
}
